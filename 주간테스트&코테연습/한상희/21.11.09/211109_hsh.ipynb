{
 "cells": [
  {
   "cell_type": "markdown",
   "metadata": {},
   "source": [
    "- 문제1)"
   ]
  },
  {
   "cell_type": "code",
   "execution_count": null,
   "metadata": {},
   "outputs": [],
   "source": [
    "def solution(n, m):\n",
    "    answer = 0\n",
    "    for i in range(n, m+1):\n",
    "        if str(i) == str(i)[::-1]:\n",
    "            answer += 1\n",
    "    return answer\n",
    "\n",
    "print(solution(1,100))\n",
    "print(solution(100,300))"
   ]
  }
 ],
 "metadata": {
  "language_info": {
   "name": "python"
  },
  "orig_nbformat": 4
 },
 "nbformat": 4,
 "nbformat_minor": 2
}
