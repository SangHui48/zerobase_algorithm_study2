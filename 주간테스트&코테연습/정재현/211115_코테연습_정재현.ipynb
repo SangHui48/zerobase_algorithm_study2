{
 "cells": [
  {
   "cell_type": "markdown",
   "id": "4f92d37f",
   "metadata": {},
   "source": [
    "# 211115 daily 코테연습"
   ]
  },
  {
   "cell_type": "markdown",
   "id": "72dca209",
   "metadata": {},
   "source": [
    "#### 1문제 설명\n",
    "OO 조선소에서는 태풍으로 인한 작업지연으로 수주한 선박들을 기한 내에 완성하지 못할 것이 예상됩니다. 기한 내에 완성하지 못하면 손해 배상을 해야 하므로 남은 일의 작업량을 숫자로 매기고 배상비용을 최소화하는 방법을 찾으려고 합니다.\n",
    "배상 비용은 각 선박의 완성까지 남은 일의 작업량을 제곱하여 모두 더한 값이 됩니다.\n",
    "\n",
    "조선소에서는 1시간 동안 남은 일 중 하나를 골라 작업량 1만큼 처리할 수 있습니다. 조선소에서 작업할 수 있는 N 시간과 각 일에 대한 작업량이 담긴 배열(works)이 있을 때 배상 비용을 최소화한 결과를 반환하는 함수를 만들어 주세요. 예를 들어, N=4일 때, 선박별로 남은 일의 작업량이 works = [4, 3, 3]이라면 배상 비용을 최소화하기 위해 일을 한 결과는 [2, 2, 2]가 되고 배상 비용은 22 + 22 + 22 = 12가 되어 12를 반환해 줍니다.\n",
    "\n",
    "제한사항\n",
    "일할 수 있는 시간 N : 1,000,000 이하의 자연수\n",
    "배열 works의 크기 : 1,000 이하의 자연수\n",
    "각 일에 대한 작업량 : 1,000 이하의 자연수\n",
    "입출력 예\n",
    "N\tworks\tresult\n",
    "4\t[4,3,3]\t12\n",
    "2\t[3,3,3]\t17\n",
    "입출력 예 설명\n",
    "입출력 예 #1\n",
    "문제의 예제와 같습니다.\n",
    "\n",
    "입출력 예 #2\n",
    "배상 비용을 최소화하기 위해 일을 한 결과는 [2, 2, 3]가 되고 배상 비용은 22 + 22 + 32 = 17가 되어 17를 반환해 줍니다."
   ]
  },
  {
   "cell_type": "code",
   "execution_count": 7,
   "id": "4a543830",
   "metadata": {},
   "outputs": [],
   "source": [
    "def solution(n, works):\n",
    "    result = 0\n",
    "    \n",
    "    if n > sum(works):\n",
    "        return result\n",
    "\n",
    "    while n > 0:\n",
    "\n",
    "        works.sort()\n",
    "        works[-1] -= 1\n",
    "        n -=1\n",
    "\n",
    "    for i in works:\n",
    "        result += i ** 2\n",
    "    \n",
    "    return result"
   ]
  },
  {
   "cell_type": "code",
   "execution_count": 8,
   "id": "c2c377d5",
   "metadata": {},
   "outputs": [
    {
     "name": "stdout",
     "output_type": "stream",
     "text": [
      "12\n",
      "17\n",
      "0\n"
     ]
    }
   ],
   "source": [
    "print(solution(4, [4,3,3]))\n",
    "print(solution(2, [3,3,3]))\n",
    "print(solution(11, [4,3,3]))"
   ]
  },
  {
   "cell_type": "markdown",
   "id": "29338b6b",
   "metadata": {},
   "source": [
    "#### 2문제 설명\n",
    "ROR 게임은 두 팀으로 나누어서 진행하며, 상대 팀 진영을 먼저 파괴하면 이기는 게임입니다. 따라서, 각 팀은 상대 팀 진영에 최대한 빨리 도착하는 것이 유리합니다.\n",
    "\n",
    "지금부터 당신은 한 팀의 팀원이 되어 게임을 진행하려고 합니다. 다음은 5 x 5 크기의 맵에, 당신의 캐릭터가 (행: 1, 열: 1) 위치에 있고, 상대 팀 진영은 (행: 5, 열: 5) 위치에 있는 경우의 예시입니다.\n",
    "\n",
    "최단거리1_sxuruo.png\n",
    "\n",
    "위 그림에서 검은색 부분은 벽으로 막혀있어 갈 수 없는 길이며, 흰색 부분은 갈 수 있는 길입니다. 캐릭터가 움직일 때는 동, 서, 남, 북 방향으로 한 칸씩 이동하며, 게임 맵을 벗어난 길은 갈 수 없습니다.\n",
    "아래 예시는 캐릭터가 상대 팀 진영으로 가는 두 가지 방법을 나타내고 있습니다.\n",
    "\n",
    "첫 번째 방법은 11개의 칸을 지나서 상대 팀 진영에 도착했습니다.\n",
    "최단거리2_hnjd3b.png\n",
    "\n",
    "두 번째 방법은 15개의 칸을 지나서 상대팀 진영에 도착했습니다.\n",
    "최단거리3_ntxygd.png\n",
    "\n",
    "위 예시에서는 첫 번째 방법보다 더 빠르게 상대팀 진영에 도착하는 방법은 없으므로, 이 방법이 상대 팀 진영으로 가는 가장 빠른 방법입니다.\n",
    "\n",
    "만약, 상대 팀이 자신의 팀 진영 주위에 벽을 세워두었다면 상대 팀 진영에 도착하지 못할 수도 있습니다. 예를 들어, 다음과 같은 경우에 당신의 캐릭터는 상대 팀 진영에 도착할 수 없습니다.\n",
    "\n",
    "최단거리4_of9xfg.png\n",
    "\n",
    "게임 맵의 상태 maps가 매개변수로 주어질 때, 캐릭터가 상대 팀 진영에 도착하기 위해서 지나가야 하는 칸의 개수의 최솟값을 return 하도록 solution 함수를 완성해주세요. 단, 상대 팀 진영에 도착할 수 없을 때는 -1을 return 해주세요.\n",
    "\n",
    "제한사항\n",
    "maps는 n x m 크기의 게임 맵의 상태가 들어있는 2차원 배열로, n과 m은 각각 1 이상 100 이하의 자연수입니다.\n",
    "n과 m은 서로 같을 수도, 다를 수도 있지만, n과 m이 모두 1인 경우는 입력으로 주어지지 않습니다.\n",
    "maps는 0과 1로만 이루어져 있으며, 0은 벽이 있는 자리, 1은 벽이 없는 자리를 나타냅니다.\n",
    "처음에 캐릭터는 게임 맵의 좌측 상단인 (1, 1) 위치에 있으며, 상대방 진영은 게임 맵의 우측 하단인 (n, m) 위치에 있습니다.\n",
    "입출력 예\n",
    "maps\tanswer\n",
    "[[1,0,1,1,1],[1,0,1,0,1],[1,0,1,1,1],[1,1,1,0,1],[0,0,0,0,1]]\t11\n",
    "[[1,0,1,1,1],[1,0,1,0,1],[1,0,1,1,1],[1,1,1,0,0],[0,0,0,0,1]]\t-1\n",
    "입출력 예 설명\n",
    "입출력 예 #1\n",
    "주어진 데이터는 다음과 같습니다.\n",
    "\n",
    "최단거리6_lgjvrb.png\n",
    "\n",
    "캐릭터가 적 팀의 진영까지 이동하는 가장 빠른 길은 다음 그림과 같습니다.\n",
    "\n",
    "최단거리2_hnjd3b (1).png\n",
    "\n",
    "따라서 총 11칸을 캐릭터가 지나갔으므로 11을 return 하면 됩니다.\n",
    "\n",
    "입출력 예 #2\n",
    "문제의 예시와 같으며, 상대 팀 진영에 도달할 방법이 없습니다. 따라서 -1을 return 합니다."
   ]
  },
  {
   "cell_type": "code",
   "execution_count": 4,
   "id": "e92fc6d4",
   "metadata": {},
   "outputs": [],
   "source": [
    "from collections import deque\n",
    "\n",
    "def solution(maps):\n",
    "    \n",
    "    n = len(maps)    # 행\n",
    "    m = len(maps[1])    # 열\n",
    "\n",
    "    # 방향 구현 리스트\n",
    "    dx = [-1,1,0,0]\n",
    "    dy = [0,0,-1,1]\n",
    "\n",
    "    # bfs 구현\n",
    "    x, y = 0, 0    # 시작점\n",
    "    queue = deque()\n",
    "    queue.append((x,y))\n",
    "\n",
    "    while queue:    # 큐에 데이터 존재할때까지 반복\n",
    "        x, y = queue.popleft()    # 해당위치 큐에서 꺼내고 x, y에 입력\n",
    "\n",
    "        for i in range(4):    # 네 방향 탐색\n",
    "            nx = x + dx[i]\n",
    "            ny = y + dy[i]\n",
    "\n",
    "            # 맵 벗어나거나 0에 부딪히면 continue\n",
    "            if nx < 0 or ny < 0 or nx >= n or ny >= m:\n",
    "                continue\n",
    "            if maps[nx][ny] == 0:\n",
    "                continue\n",
    "\n",
    "            # 해당 탐색 위치가 1이라면 현재 위치 값에서 1을 더하고 방문 기록\n",
    "            if maps[nx][ny] == 1:\n",
    "                maps[nx][ny] = maps[x][y] + 1\n",
    "                queue.append((nx, ny))\n",
    "    \n",
    "    # 끝점 값이 반복문 이후에도 1이라면 도달하지 못했음을 의미하므로 -1 출력\n",
    "    if maps[n-1][m-1] == 1:    \n",
    "        return -1\n",
    "                    \n",
    "    # 끝점의 값(시작점에서 부터의 최단거리) 출력\n",
    "    return maps[n-1][m-1]    "
   ]
  },
  {
   "cell_type": "code",
   "execution_count": 5,
   "id": "b60a4f7a",
   "metadata": {},
   "outputs": [
    {
     "name": "stdout",
     "output_type": "stream",
     "text": [
      "11\n",
      "-1\n"
     ]
    }
   ],
   "source": [
    "print(solution([[1,0,1,1,1],[1,0,1,0,1],[1,0,1,1,1],[1,1,1,0,1],[0,0,0,0,1]]))\n",
    "print(solution([[1,0,1,1,1],[1,0,1,0,1],[1,0,1,1,1],[1,1,1,0,0],[0,0,0,0,1]]))"
   ]
  }
 ],
 "metadata": {
  "kernelspec": {
   "display_name": "Python 3 (ipykernel)",
   "language": "python",
   "name": "python3"
  },
  "language_info": {
   "codemirror_mode": {
    "name": "ipython",
    "version": 3
   },
   "file_extension": ".py",
   "mimetype": "text/x-python",
   "name": "python",
   "nbconvert_exporter": "python",
   "pygments_lexer": "ipython3",
   "version": "3.8.5"
  }
 },
 "nbformat": 4,
 "nbformat_minor": 5
}
