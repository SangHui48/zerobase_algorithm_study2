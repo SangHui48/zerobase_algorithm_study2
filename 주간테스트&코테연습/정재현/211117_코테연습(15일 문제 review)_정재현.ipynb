{
 "cells": [
  {
   "cell_type": "code",
   "execution_count": 20,
   "id": "6ddf4699",
   "metadata": {},
   "outputs": [],
   "source": [
    "from collections import deque\n",
    "\n",
    "def solution(maps):\n",
    "    \n",
    "    n = len(maps)    # 행\n",
    "    m = len(maps[0])    # 열\n",
    "    \n",
    "    if n == 1 and m == 1:    # 1 by 1일 경우 예외\n",
    "        return 1\n",
    "\n",
    "\n",
    "    # 방향 구현 리스트\n",
    "    dx = [-1,1,0,0]\n",
    "    dy = [0,0,-1,1]\n",
    "\n",
    "    # bfs 구현\n",
    "    x, y = 0, 0    # 시작점\n",
    "    queue = deque()\n",
    "    queue.append((x,y))\n",
    "\n",
    "    while queue:    # 큐에 데이터 존재할때까지 반복\n",
    "        x, y = queue.popleft()    # 해당위치 큐에서 꺼내고 x, y에 입력\n",
    "\n",
    "        for i in range(4):    # 네 방향 탐색\n",
    "            nx = x + dx[i]\n",
    "            ny = y + dy[i]\n",
    "\n",
    "            # 맵 벗어나거나 0에 부딪히면 continue\n",
    "            if nx < 0 or ny < 0 or nx >= n or ny >= m:\n",
    "                continue\n",
    "            if maps[nx][ny] == 0:\n",
    "                continue\n",
    "\n",
    "            # 해당 탐색 위치가 1이라면 현재 위치 값에서 1을 더하고 방문 기록\n",
    "            if maps[nx][ny] == 1:\n",
    "                maps[nx][ny] = maps[x][y] + 1\n",
    "                queue.append((nx, ny))\n",
    "    \n",
    "    # 끝점 값이 반복문 이후에도 1이라면 도달하지 못했음을 의미하므로 -1 출력\n",
    "    if maps[n-1][m-1] == 1:    \n",
    "        return -1\n",
    "                    \n",
    "    # 끝점의 값(시작점에서 부터의 최단거리) 출력\n",
    "    return maps[n-1][m-1]    "
   ]
  },
  {
   "cell_type": "code",
   "execution_count": 31,
   "id": "deb27013",
   "metadata": {},
   "outputs": [
    {
     "name": "stdout",
     "output_type": "stream",
     "text": [
      "n and m > 1\n",
      "11\n",
      "5\n",
      "----------------------------------------------------------------------------------------------------\n",
      "n or m == 1\n",
      "4\n",
      "4\n",
      "1\n"
     ]
    }
   ],
   "source": [
    "print('n and m > 1')\n",
    "print(solution([[1,0,1,1,1],[1,0,1,0,1],[1,0,1,1,1],[1,1,1,0,1],[0,0,0,0,1]]))\n",
    "print(solution([[1,1,1],[1,0,1],[0,0,1]]))\n",
    "print('-'*100)\n",
    "print('n or m == 1')\n",
    "print(solution([[1,1,1,1]]))\n",
    "print(solution([[1],[1],[1],[1]]))\n",
    "print(solution([[1]]))    # 예외처리 안할 시 -1 출력"
   ]
  }
 ],
 "metadata": {
  "kernelspec": {
   "display_name": "Python 3 (ipykernel)",
   "language": "python",
   "name": "python3"
  },
  "language_info": {
   "codemirror_mode": {
    "name": "ipython",
    "version": 3
   },
   "file_extension": ".py",
   "mimetype": "text/x-python",
   "name": "python",
   "nbconvert_exporter": "python",
   "pygments_lexer": "ipython3",
   "version": "3.8.5"
  }
 },
 "nbformat": 4,
 "nbformat_minor": 5
}
