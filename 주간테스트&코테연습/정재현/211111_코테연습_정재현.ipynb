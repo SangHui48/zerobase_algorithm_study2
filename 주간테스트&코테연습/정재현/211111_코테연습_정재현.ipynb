{
 "cells": [
  {
   "cell_type": "markdown",
   "id": "a8c4528d",
   "metadata": {},
   "source": [
    "# 1"
   ]
  },
  {
   "cell_type": "code",
   "execution_count": null,
   "id": "0c14fdf8",
   "metadata": {},
   "outputs": [],
   "source": [
    "nums = list(map(int, input().split()))\n",
    "\n",
    "from itertools import combinations\n",
    "\n",
    "numsComb = combinations(nums, 3)\n",
    "\n",
    "\n",
    "answer = 0\n",
    "\n",
    "for i in numsComb:\n",
    "    num = sum(i)\n",
    "\n",
    "    for j in range(2, num):\n",
    "        if num % j == 0:\n",
    "            break\n",
    "    else:\n",
    "        answer += 1\n",
    "print(answer)"
   ]
  },
  {
   "cell_type": "markdown",
   "id": "d770c96b",
   "metadata": {},
   "source": [
    "# 2"
   ]
  },
  {
   "cell_type": "code",
   "execution_count": null,
   "id": "48de1c18",
   "metadata": {},
   "outputs": [],
   "source": [
    "def solution(N, road, K):\n",
    "    \n",
    "    start = 1    # 1번 마을에서 시작\n",
    "    answer = 0    \n",
    "    INF = int(1e9)   # 무한을 의미하는 값으로 10억을 설정\n",
    "    road = road * 2    # 가는경우, 오는경우 모두 저장하기 위해 *2\n",
    "    n = N\n",
    "    m = len(road)\n",
    "    graph = [[] for i in range(n + 1)]    # 노드끼리 연결 관계 데이터\n",
    "    visited = [False] * (n + 1)    # 방문노드 데이터\n",
    "    distance = [INF] * (n + 1)    # 최단 거리 테이블을 모두 무한으로 초기화\n",
    "\n",
    "    # 모든 간선 정보를 입력받기 #a번 노드에서 b번 노드로 가는 비용이 c이고 가는경우, 오는경우 모두 저장\n",
    "    for i in range(int(m/2)):\n",
    "        a, b, c = road[i][0], road[i][1], road[i][2] \n",
    "        graph[a].append((b, c))\n",
    "    for i in range(int(m/2), m):\n",
    "        a, b, c = road[i][1], road[i][0], road[i][2] \n",
    "        graph[a].append((b, c))\n",
    "\n",
    "    # 방문하지 않은 노드 중에서, 가장 최단 거리가 짧은 노드의 번호를 반환\n",
    "    def get_smallest_node():\n",
    "        min_value = INF\n",
    "        index = 0 # 가장 최단 거리가 짧은 노드(인덱스)\n",
    "        for i in range(1, n + 1):\n",
    "            if distance[i] < min_value and not visited[i]:\n",
    "                min_value = distance[i]\n",
    "                index = i\n",
    "        return index\n",
    "\n",
    "    def dijkstra(start):\n",
    "        distance[start] = 0    # 시작 노드에 대해서 초기화\n",
    "        visited[start] = True\n",
    "        \n",
    "        for j in graph[start]:\n",
    "            distance[j[0]] = j[1]\n",
    "            \n",
    "        # 시작 노드를 제외한 전체 n - 1개의 노드에 대해 반복\n",
    "        for i in range(n - 1):\n",
    "            # 현재 최단 거리가 가장 짧은 노드를 꺼내서, 방문 처리\n",
    "            now = get_smallest_node()\n",
    "            visited[now] = True\n",
    "            \n",
    "            # 현재 노드와 연결된 다른 노드를 확인\n",
    "            for j in graph[now]:\n",
    "                cost = distance[now] + j[1]\n",
    "                \n",
    "                # 현재 노드를 거쳐서 다른 노드로 이동하는 거리가 더 짧은 경우\n",
    "                if cost < distance[j[0]]:\n",
    "                    distance[j[0]] = cost\n",
    "\n",
    "    # 다익스트라 알고리즘을 수행\n",
    "    dijkstra(start)\n",
    "\n",
    "    # 각 마을별 도착시간이 K이하일 경우 answer+1\n",
    "    for i in range(1, n + 1):\n",
    "        if distance[i] <= K:\n",
    "            answer += 1\n",
    "            \n",
    "    return answer"
   ]
  }
 ],
 "metadata": {
  "kernelspec": {
   "display_name": "Python 3 (ipykernel)",
   "language": "python",
   "name": "python3"
  },
  "language_info": {
   "codemirror_mode": {
    "name": "ipython",
    "version": 3
   },
   "file_extension": ".py",
   "mimetype": "text/x-python",
   "name": "python",
   "nbconvert_exporter": "python",
   "pygments_lexer": "ipython3",
   "version": "3.8.5"
  }
 },
 "nbformat": 4,
 "nbformat_minor": 5
}
