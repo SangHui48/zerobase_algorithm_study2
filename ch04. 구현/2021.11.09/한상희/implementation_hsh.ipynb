{
 "cells": [
  {
   "cell_type": "markdown",
   "metadata": {},
   "source": [
    "# 구현\n",
    "\n",
    "- 완전탐색 = 모든 경우의 수를 주저 없이 다 계산하는 해결 방법\n",
    "- 시뮬레이션 = 문제에서 제시한 알고리즘을 한 단계씩 차례대로 직접 수행해야 하는 문제"
   ]
  },
  {
   "cell_type": "markdown",
   "metadata": {},
   "source": [
    "#### 파이썬 리스트 크기\n",
    "\n",
    "- 메모리 사용량\n",
    "    - 1000개 = 약 4KB\n",
    "    - 1,000,000 = 약 4MB\n",
    "    - 1,000,000,000 = 약 40MB"
   ]
  },
  {
   "cell_type": "markdown",
   "metadata": {},
   "source": [
    "예제 1) 상하좌우"
   ]
  },
  {
   "cell_type": "code",
   "execution_count": 1,
   "metadata": {},
   "outputs": [
    {
     "name": "stdout",
     "output_type": "stream",
     "text": [
      "3 4\n"
     ]
    }
   ],
   "source": [
    "n = int(input())\n",
    "directions = input().split()\n",
    "\n",
    "x, y = 1, 1\n",
    "dx = [-1, 1, 0, 0]\n",
    "dy = [0, 0, -1, 1]\n",
    "move_types = {'L': 0, 'R': 1, 'U': 2, 'D': 3}\n",
    "\n",
    "for direction in directions:\n",
    "    idx = move_types[direction]\n",
    "    nx = x + dx[idx]\n",
    "    ny = y + dy[idx]\n",
    "    if 1 <= nx <= 5 and 1 <= ny <= 5:\n",
    "        x = nx\n",
    "        y = ny\n",
    "print(y, x)"
   ]
  },
  {
   "cell_type": "markdown",
   "metadata": {},
   "source": [
    "- x방향, y방향 으로 어떻게 값이 증가하는지 확인할 것\n",
    "- 범위 안에 벗어나는지 확인할 것"
   ]
  },
  {
   "cell_type": "markdown",
   "metadata": {},
   "source": [
    "예제 2) 시각"
   ]
  },
  {
   "cell_type": "code",
   "execution_count": 2,
   "metadata": {},
   "outputs": [
    {
     "name": "stdout",
     "output_type": "stream",
     "text": [
      "11475\n"
     ]
    }
   ],
   "source": [
    "n = int(input())\n",
    "cnt = 0\n",
    "for i in range(n+1):\n",
    "    for j in range(60):\n",
    "        for k in range(60):\n",
    "            if '3' in str(i) or '3' in str(j) or '3' in str(k):\n",
    "                cnt += 1\n",
    "print(cnt)"
   ]
  },
  {
   "cell_type": "markdown",
   "metadata": {},
   "source": [
    "- 문자열 3이 해당 문자열에 안에 있는지\n",
    "- 시간을 반복문으로 변환해서 생각하기"
   ]
  },
  {
   "cell_type": "markdown",
   "metadata": {},
   "source": [
    "예제3) 왕실의 나이트"
   ]
  },
  {
   "cell_type": "code",
   "execution_count": 3,
   "metadata": {},
   "outputs": [
    {
     "name": "stdout",
     "output_type": "stream",
     "text": [
      "2\n"
     ]
    }
   ],
   "source": [
    "pos = input()\n",
    "row = int(pos[1])\n",
    "col = ord(pos[0]) - ord('a') + 1\n",
    "\n",
    "move_types = [(-2, -1), (-2, 1), (2, -1), (2, 1), (-1, 2), (1, 2), (-2, -1), (-2, 1)]\n",
    "result = 0\n",
    "for case in move_types:\n",
    "    m_row = row + case[0]\n",
    "    m_col = col + case[1]\n",
    "\n",
    "    if 1 <= m_row <= 8 and 1 <= m_col <= 8:\n",
    "        result += 1\n",
    "print(result)"
   ]
  },
  {
   "cell_type": "markdown",
   "metadata": {},
   "source": [
    "- 별다른 풀이방법이 존재하는건 아니고 모든 이동 가능한 케이스에 대해서 이동한 후 범위 안에 있으면 카운트를 1 증가시키는 방법으로 풀어야 하는것 같다."
   ]
  },
  {
   "cell_type": "markdown",
   "metadata": {},
   "source": [
    "예제4) 게임 개발"
   ]
  },
  {
   "cell_type": "code",
   "execution_count": 4,
   "metadata": {},
   "outputs": [
    {
     "name": "stdout",
     "output_type": "stream",
     "text": [
      "3\n"
     ]
    }
   ],
   "source": [
    "n, m = map(int, input().split())\n",
    "# 방문한 위치 저장\n",
    "record = [[0] * m for _ in range(n)]\n",
    "x, y, direction = map(int, input().split())\n",
    "\n",
    "record[x][y] = 1\n",
    "\n",
    "dx = [1, 0, -1, 0]\n",
    "dy = [0, 1, 0, -1]\n",
    "\n",
    "user_map = []\n",
    "for _ in range(n):\n",
    "    user_map.append(list(map(int, input().split())))\n",
    "\n",
    "def turn_left():\n",
    "    global direction\n",
    "    direction -= 1\n",
    "    if direction == -1:\n",
    "        direction = 3\n",
    "\n",
    "count = 1\n",
    "turn_time = 0\n",
    "while True:\n",
    "    # 왼쪽 회전\n",
    "    turn_left()\n",
    "    nx = x + dx[direction]\n",
    "    ny = y + dy[direction]\n",
    "\n",
    "    if user_map[nx][ny] == 0 and record[nx][ny] == 0:\n",
    "        record[nx][ny] = 1\n",
    "        x = nx\n",
    "        y = ny\n",
    "        count += 1\n",
    "        turn_time = 0\n",
    "        continue\n",
    "    else:\n",
    "        turn_time += 1\n",
    "    if turn_time == 4:\n",
    "        nx = x - dx[direction]\n",
    "        ny = y - dy[direction]\n",
    "        if user_map[nx][ny] == 0:\n",
    "            x = nx\n",
    "            y = ny\n",
    "        else:\n",
    "            break\n",
    "        turn_time = 0\n",
    "\n",
    "print(count)"
   ]
  },
  {
   "cell_type": "markdown",
   "metadata": {},
   "source": [
    "- 문제에서 요구하는 그대로를 코드로 옮겨야 하는 느낌"
   ]
  }
 ],
 "metadata": {
  "interpreter": {
   "hash": "d50a66a266a6a61a1c0333aefb4ab9977cb45a205395c7c5730c8fb0e80b6869"
  },
  "kernelspec": {
   "display_name": "Python 3.9.6 64-bit",
   "language": "python",
   "name": "python3"
  },
  "language_info": {
   "codemirror_mode": {
    "name": "ipython",
    "version": 3
   },
   "file_extension": ".py",
   "mimetype": "text/x-python",
   "name": "python",
   "nbconvert_exporter": "python",
   "pygments_lexer": "ipython3",
   "version": "3.9.6"
  },
  "orig_nbformat": 4
 },
 "nbformat": 4,
 "nbformat_minor": 2
}
