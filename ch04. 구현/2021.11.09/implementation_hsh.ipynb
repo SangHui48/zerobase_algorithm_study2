{
 "cells": [
  {
   "cell_type": "markdown",
   "metadata": {},
   "source": [
    "# 구현\n",
    "\n",
    "- 완전탐색 = 모든 경우의 수를 주저 없이 다 계산하는 해결 방법\n",
    "- 시뮬레이션 = 문제에서 제시한 알고리즘을 한 단계씩 차례대로 직접 수행해야 하는 문제"
   ]
  },
  {
   "cell_type": "markdown",
   "metadata": {},
   "source": [
    "#### 파이썬 리스트 크기\n",
    "\n",
    "- 메모리 사용량\n",
    "    - 1000개 = 약 4KB\n",
    "    - 1,000,000 = 약 4MB\n",
    "    - 1,000,000,000 = 약 40MB"
   ]
  },
  {
   "cell_type": "markdown",
   "metadata": {},
   "source": [
    "예제 1) 상하좌우"
   ]
  },
  {
   "cell_type": "code",
   "execution_count": 1,
   "metadata": {},
   "outputs": [
    {
     "name": "stdout",
     "output_type": "stream",
     "text": [
      "3 4\n"
     ]
    }
   ],
   "source": [
    "n = int(input())\n",
    "directions = input().split()\n",
    "\n",
    "x, y = 1, 1\n",
    "dx = [-1, 1, 0, 0]\n",
    "dy = [0, 0, -1, 1]\n",
    "move_types = {'L': 0, 'R': 1, 'U': 2, 'D': 3}\n",
    "\n",
    "for direction in directions:\n",
    "    idx = move_types[direction]\n",
    "    nx = x + dx[idx]\n",
    "    ny = y + dy[idx]\n",
    "    if 1 <= nx <= 5 and 1 <= ny <= 5:\n",
    "        x = nx\n",
    "        y = ny\n",
    "print(y, x)"
   ]
  },
  {
   "cell_type": "markdown",
   "metadata": {},
   "source": [
    "- x방향, y방향 으로 어떻게 값이 증가하는지 확인할 것\n",
    "- 범위 안에 벗어나는지 확인할 것"
   ]
  },
  {
   "cell_type": "markdown",
   "metadata": {},
   "source": [
    "예제 2) 시각"
   ]
  },
  {
   "cell_type": "code",
   "execution_count": 2,
   "metadata": {},
   "outputs": [
    {
     "name": "stdout",
     "output_type": "stream",
     "text": [
      "11475\n"
     ]
    }
   ],
   "source": [
    "n = int(input())\n",
    "cnt = 0\n",
    "for i in range(n+1):\n",
    "    for j in range(60):\n",
    "        for k in range(60):\n",
    "            if '3' in str(i) or '3' in str(j) or '3' in str(k):\n",
    "                cnt += 1\n",
    "print(cnt)"
   ]
  },
  {
   "cell_type": "markdown",
   "metadata": {},
   "source": [
    "- 문자열 3이 해당 문자열에 안에 있는지\n",
    "- 시간을 반복문으로 변환해서 생각하기"
   ]
  },
  {
   "cell_type": "markdown",
   "metadata": {},
   "source": [
    "예제3) 왕실의 나이트"
   ]
  },
  {
   "cell_type": "code",
   "execution_count": 3,
   "metadata": {},
   "outputs": [
    {
     "name": "stdout",
     "output_type": "stream",
     "text": [
      "2\n"
     ]
    }
   ],
   "source": [
    "pos = input()\n",
    "row = int(pos[1])\n",
    "col = ord(pos[0]) - ord('a') + 1\n",
    "\n",
    "move_types = [(-2, -1), (-2, 1), (2, -1), (2, 1), (-1, 2), (1, 2), (-2, -1), (-2, 1)]\n",
    "result = 0\n",
    "for case in move_types:\n",
    "    m_row = row + case[0]\n",
    "    m_col = col + case[1]\n",
    "\n",
    "    if 1 <= m_row <= 8 and 1 <= m_col <= 8:\n",
    "        result += 1\n",
    "print(result)"
   ]
  },
  {
   "cell_type": "markdown",
   "metadata": {},
   "source": [
    "- 별다른 풀이방법이 존재하는건 아니고 모든 이동 가능한 케이스에 대해서 이동한 후 범위 안에 있으면 카운트를 1 증가시키는 방법으로 풀어야 하는것 같다."
   ]
  },
  {
   "cell_type": "code",
   "execution_count": null,
   "metadata": {},
   "outputs": [],
   "source": []
  }
 ],
 "metadata": {
  "interpreter": {
   "hash": "d50a66a266a6a61a1c0333aefb4ab9977cb45a205395c7c5730c8fb0e80b6869"
  },
  "kernelspec": {
   "display_name": "Python 3.9.6 64-bit",
   "language": "python",
   "name": "python3"
  },
  "language_info": {
   "codemirror_mode": {
    "name": "ipython",
    "version": 3
   },
   "file_extension": ".py",
   "mimetype": "text/x-python",
   "name": "python",
   "nbconvert_exporter": "python",
   "pygments_lexer": "ipython3",
   "version": "3.9.6"
  },
  "orig_nbformat": 4
 },
 "nbformat": 4,
 "nbformat_minor": 2
}
