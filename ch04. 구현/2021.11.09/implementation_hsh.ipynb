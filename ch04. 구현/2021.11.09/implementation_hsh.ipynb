{
 "cells": [
  {
   "cell_type": "markdown",
   "metadata": {},
   "source": [
    "# 구현\n",
    "\n",
    "- 완전탐색 = 모든 경우의 수를 주저 없이 다 계산하는 해결 방법\n",
    "- 시뮬레이션 = 문제에서 제시한 알고리즘을 한 단계씩 차례대로 직접 수행해야 하는 문제"
   ]
  },
  {
   "cell_type": "markdown",
   "metadata": {},
   "source": [
    "#### 파이썬 리스트 크기\n",
    "\n",
    "- 메모리 사용량\n",
    "    - 1000개 = 약 4KB\n",
    "    - 1,000,000 = 약 4MB\n",
    "    - 1,000,000,000 = 약 40MB"
   ]
  },
  {
   "cell_type": "code",
   "execution_count": null,
   "metadata": {},
   "outputs": [],
   "source": []
  }
 ],
 "metadata": {
  "language_info": {
   "name": "python"
  },
  "orig_nbformat": 4
 },
 "nbformat": 4,
 "nbformat_minor": 2
}
