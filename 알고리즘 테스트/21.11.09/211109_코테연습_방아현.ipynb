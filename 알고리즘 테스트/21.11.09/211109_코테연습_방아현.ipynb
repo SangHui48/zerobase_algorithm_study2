{
 "cells": [
  {
   "cell_type": "markdown",
   "metadata": {},
   "source": [
    "# 1. 프로그래밍"
   ]
  },
  {
   "cell_type": "code",
   "execution_count": null,
   "metadata": {},
   "outputs": [],
   "source": [
    "def solution(n,m):\n",
    "\tanswer = 0\n",
    "\n",
    "\tfor i in range(n, m + 1):\n",
    "\t\tnum_to_str = str(i)\n",
    "\t\tif num_to_str == num_to_str[::-1]:\n",
    "\t\t\tanswer += 1\n",
    "\n",
    "\treturn answer"
   ]
  },
  {
   "cell_type": "markdown",
   "metadata": {},
   "source": [
    "# 2. SQL"
   ]
  },
  {
   "cell_type": "markdown",
   "metadata": {},
   "source": [
    "SELECT MODEL FROM ELECTRIC_CARS ORDER BY MODEL;"
   ]
  },
  {
   "cell_type": "markdown",
   "metadata": {},
   "source": []
  }
 ],
 "metadata": {
  "interpreter": {
   "hash": "aee8b7b246df8f9039afb4144a1f6fd8d2ca17a180786b69acc140d282b71a49"
  },
  "kernelspec": {
   "display_name": "Python 3.9.6 64-bit",
   "language": "python",
   "name": "python3"
  },
  "language_info": {
   "name": "python",
   "version": "3.9.6"
  },
  "orig_nbformat": 4
 },
 "nbformat": 4,
 "nbformat_minor": 2
}
