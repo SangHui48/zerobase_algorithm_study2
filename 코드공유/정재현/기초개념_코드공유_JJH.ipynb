{
 "cells": [
  {
   "cell_type": "markdown",
   "id": "befc9605",
   "metadata": {},
   "source": [
    "# 211110"
   ]
  },
  {
   "cell_type": "markdown",
   "id": "855ea9b0",
   "metadata": {},
   "source": [
    "#1712 손익분기점 https://www.acmicpc.net/problem/1712"
   ]
  },
  {
   "cell_type": "code",
   "execution_count": null,
   "id": "385f2107",
   "metadata": {},
   "outputs": [],
   "source": [
    "# 반복문 ~ 시간초과\n",
    "\n",
    "import sys\n",
    "\n",
    "A, B, C = map(int, sys.stdin.readline().split())\n",
    "n = 0\n",
    "profit = 0\n",
    "\n",
    "while profit <= 0:\n",
    "    n += 1\n",
    "    profit = (C - B) * n - A\n",
    "    \n",
    "    if C - B <= 0:\n",
    "        n = -1\n",
    "        break\n",
    "print(n)"
   ]
  },
  {
   "cell_type": "code",
   "execution_count": null,
   "id": "6bd52d7a",
   "metadata": {},
   "outputs": [],
   "source": [
    "# 상황 단순화하여 식을 만들기\n",
    "\n",
    "A, B, C = map(int, input().split())\n",
    "\n",
    "if C > B:\n",
    "    print(int(A / (C-B) + 1))\n",
    "else:\n",
    "    print(-1)"
   ]
  },
  {
   "cell_type": "markdown",
   "id": "9d0a0cf5",
   "metadata": {},
   "source": [
    "#2292 벌집 https://www.acmicpc.net/problem/2292"
   ]
  },
  {
   "cell_type": "code",
   "execution_count": null,
   "id": "e594e767",
   "metadata": {},
   "outputs": [],
   "source": [
    "# 규칙 찾아서 적용(계차수열)\n",
    "\n",
    "n = int(input())\n",
    "\n",
    "start = 1\n",
    "d = 6\n",
    "cnt = 2\n",
    "if n == 1:\n",
    "    print(1)\n",
    "    \n",
    "else:\n",
    "    while True:\n",
    "        start += d\n",
    "        if n <= start:\n",
    "            print(cnt)\n",
    "            break\n",
    "        d += 6\n",
    "        cnt += 1"
   ]
  },
  {
   "cell_type": "markdown",
   "id": "d92a2d14",
   "metadata": {},
   "source": [
    "#2869 달팽이는 올라가고 싶다 https://www.acmicpc.net/problem/2869"
   ]
  },
  {
   "cell_type": "code",
   "execution_count": null,
   "id": "d46dfbdc",
   "metadata": {},
   "outputs": [],
   "source": [
    "A, B, V = map(int, input().split())\n",
    "\n",
    "day = (V - B) / (A - B)  # 나머지 없다면 그대로 올라갈 것이고 나머지 있다면 하루 더걸림\n",
    "\n",
    "if int(day) != day:\n",
    "    print(int(day) + 1)\n",
    "else:\n",
    "    print(int(day))\n",
    "    \n",
    "# V에서 마지막에 내려오는 부분은 빼줌으로써 꼭대기에 도달할 때 하루가 더 필요한지 여부 판단 가능\n",
    "# 소수점이 남는다면 하루가 더필요하므로 +1"
   ]
  },
  {
   "cell_type": "markdown",
   "id": "2b9df5cc",
   "metadata": {},
   "source": [
    "# 211111"
   ]
  },
  {
   "cell_type": "markdown",
   "id": "ea24c02b",
   "metadata": {},
   "source": [
    "#배달 https://programmers.co.kr/learn/courses/30/lessons/12978"
   ]
  },
  {
   "cell_type": "code",
   "execution_count": null,
   "id": "052189dd",
   "metadata": {},
   "outputs": [],
   "source": [
    "def solution(N, road, K):\n",
    "    \n",
    "    start = 1    # 1번 마을에서 시작\n",
    "    answer = 0    \n",
    "    INF = int(1e9)   # 무한을 의미하는 값으로 10억을 설정\n",
    "    road = road * 2    # 가는경우, 오는경우 모두 저장하기 위해 *2\n",
    "    n = N\n",
    "    m = len(road)\n",
    "    graph = [[] for i in range(n + 1)]    # 노드끼리 연결 관계 데이터\n",
    "    visited = [False] * (n + 1)    # 방문노드 데이터\n",
    "    distance = [INF] * (n + 1)    # 최단 거리 테이블을 모두 무한으로 초기화\n",
    "\n",
    "    # 모든 간선 정보를 입력받기 #a번 노드에서 b번 노드로 가는 비용이 c이고 가는경우, 오는경우 모두 저장\n",
    "    for i in range(int(m/2)):\n",
    "        a, b, c = road[i][0], road[i][1], road[i][2] \n",
    "        graph[a].append((b, c))\n",
    "    for i in range(int(m/2), m):\n",
    "        a, b, c = road[i][1], road[i][0], road[i][2] \n",
    "        graph[a].append((b, c))\n",
    "\n",
    "    # 방문하지 않은 노드 중에서, 가장 최단 거리가 짧은 노드의 번호를 반환\n",
    "    def get_smallest_node():\n",
    "        min_value = INF\n",
    "        index = 0 # 가장 최단 거리가 짧은 노드(인덱스)\n",
    "        for i in range(1, n + 1):\n",
    "            if distance[i] < min_value and not visited[i]:\n",
    "                min_value = distance[i]\n",
    "                index = i\n",
    "        return index\n",
    "\n",
    "    def dijkstra(start):\n",
    "        distance[start] = 0    # 시작 노드에 대해서 초기화\n",
    "        visited[start] = True\n",
    "        \n",
    "        for j in graph[start]:\n",
    "            distance[j[0]] = j[1]\n",
    "            \n",
    "        # 시작 노드를 제외한 전체 n - 1개의 노드에 대해 반복\n",
    "        for i in range(n - 1):\n",
    "            # 현재 최단 거리가 가장 짧은 노드를 꺼내서, 방문 처리\n",
    "            now = get_smallest_node()\n",
    "            visited[now] = True\n",
    "            \n",
    "            # 현재 노드와 연결된 다른 노드를 확인\n",
    "            for j in graph[now]:\n",
    "                cost = distance[now] + j[1]\n",
    "                \n",
    "                # 현재 노드를 거쳐서 다른 노드로 이동하는 거리가 더 짧은 경우\n",
    "                if cost < distance[j[0]]:\n",
    "                    distance[j[0]] = cost\n",
    "\n",
    "    # 다익스트라 알고리즘을 수행\n",
    "    dijkstra(start)\n",
    "\n",
    "    # 각 마을별 도착시간이 K이하일 경우 answer+1\n",
    "    for i in range(1, n + 1):\n",
    "        if distance[i] <= K:\n",
    "            answer += 1\n",
    "            \n",
    "    return answer"
   ]
  },
  {
   "cell_type": "markdown",
   "id": "deda7a89",
   "metadata": {},
   "source": [
    "# 211113"
   ]
  },
  {
   "cell_type": "markdown",
   "id": "20c312a9",
   "metadata": {},
   "source": [
    "#1193 분수찾기 https://www.acmicpc.net/problem/1193"
   ]
  },
  {
   "cell_type": "code",
   "execution_count": null,
   "id": "54650f13",
   "metadata": {},
   "outputs": [],
   "source": [
    "inputN = int(input())\n",
    "\n",
    "flag = True\n",
    "n = 0; nCnt = 1;     # 군넘버, 개별넘버\n",
    "answer = 0\n",
    "\n",
    "while flag:\n",
    "    for i in range(1, (n+1)):\n",
    "        nCnt += 1\n",
    "        if nCnt > inputN:    # 찾고자하는 N에 대해 케이스 나눠서 출력\n",
    "            if n % 2 == 0:\n",
    "                print('{}/{}'.format(i, (n - i + 1)), end='')\n",
    "                \n",
    "            else:\n",
    "                print('{}/{}'.format((n - i + 1),i ), end='')\n",
    "            \n",
    "            flag = False\n",
    "            break    \n",
    "    n += 1"
   ]
  },
  {
   "cell_type": "markdown",
   "id": "d8ab086c",
   "metadata": {},
   "source": [
    "# 211116"
   ]
  },
  {
   "cell_type": "markdown",
   "id": "f7a44cdf",
   "metadata": {},
   "source": [
    "#2941 크로아티아 알파벳 https://www.acmicpc.net/problem/2941"
   ]
  },
  {
   "cell_type": "code",
   "execution_count": 4,
   "id": "144aa9e5",
   "metadata": {},
   "outputs": [
    {
     "name": "stdout",
     "output_type": "stream",
     "text": [
      "ljes=njak\n",
      "6\n"
     ]
    }
   ],
   "source": [
    "ca = {'č': 'c=',\n",
    "'ć': 'c-',\n",
    "'dž': 'dz=',\n",
    "'đ': 'd-',\n",
    "'lj': 'lj',\n",
    "'nj': 'nj',\n",
    "'š': 's=',\n",
    "'ž': 'z='}\n",
    "\n",
    "word = input()\n",
    "\n",
    "for i in list(ca.values()):\n",
    "    word = word.replace(i, '@')    # replace 메서드 기존 변수에 재할당해야 변화를 계속해서 적용가능\n",
    "    \n",
    "print(len(word))"
   ]
  },
  {
   "cell_type": "code",
   "execution_count": 10,
   "id": "5297a049",
   "metadata": {},
   "outputs": [
    {
     "data": {
      "text/plain": [
       "'@e!@e!'"
      ]
     },
     "execution_count": 10,
     "metadata": {},
     "output_type": "execute_result"
    }
   ],
   "source": [
    "'ljes=ljes='.replace('lj', '@').replace('s=','!')    # replace는 해당 문자열이 포함된다면 자동으로 분별하여 모두 바꿈"
   ]
  },
  {
   "cell_type": "code",
   "execution_count": 14,
   "id": "734372ad",
   "metadata": {},
   "outputs": [
    {
     "name": "stdout",
     "output_type": "stream",
     "text": [
      "@s=@s=\n",
      "@es=@es=\n"
     ]
    }
   ],
   "source": [
    "print('ljes=ljes='.replace('lje', '@').replace('lj','!'))\n",
    "print('ljes=ljes='.replace('lj', '@').replace('lje','!'))     # replace 여러번 사용시 먼저 사용된 문자열 우선순위"
   ]
  },
  {
   "cell_type": "markdown",
   "id": "8bf926ff",
   "metadata": {},
   "source": [
    "#1929 소수 구하기 https://www.acmicpc.net/problem/1929"
   ]
  },
  {
   "cell_type": "code",
   "execution_count": 3,
   "id": "9533509a",
   "metadata": {},
   "outputs": [
    {
     "name": "stdout",
     "output_type": "stream",
     "text": [
      "3 16\n",
      "3\n",
      "5\n",
      "7\n",
      "11\n",
      "13\n"
     ]
    }
   ],
   "source": [
    "# 에라토스테네스의 체 : [n, m]의 나열되어있는 수들 중에서 작은 소수의 배수부터 제거해나가는 방식으로 소수를 구함\n",
    "\n",
    "m, n = map(int, input().split())    # m이상 n 이하\n",
    "\n",
    "def isprime(m, n):\n",
    "  n += 1                            # for문 사용을 위한 n += 1\n",
    "  prime = [True] * n                # n개의 [True]가 있는 리스트 생성\n",
    "  for i in range(2, int(n**0.5)+1): # n의 제곱근까지만 검사\n",
    "    if prime[i]:                    # prime[i]가 True일때\n",
    "      for j in range(2*i, n, i):    # prime 내 i의 배수들을 False로 변환\n",
    "        prime[j] = False\n",
    "\n",
    "  for i in range(m, n):\n",
    "    if i > 1 and prime[i] == True:  # 1 이상이면서 남은 소수들을 출력\n",
    "      print(i)\n",
    "\n",
    "isprime(m, n)"
   ]
  },
  {
   "cell_type": "code",
   "execution_count": 16,
   "id": "5cb64cb7",
   "metadata": {},
   "outputs": [
    {
     "name": "stdout",
     "output_type": "stream",
     "text": [
      "6\n",
      "9\n"
     ]
    }
   ],
   "source": [
    "for i in range(6, 10, 3):\n",
    "    print(i)"
   ]
  },
  {
   "cell_type": "markdown",
   "id": "25012537",
   "metadata": {},
   "source": [
    "#11729 하노이 탑 이동 순서 https://www.acmicpc.net/problem/11729"
   ]
  },
  {
   "cell_type": "code",
   "execution_count": 2,
   "id": "99bffb66",
   "metadata": {},
   "outputs": [
    {
     "name": "stdout",
     "output_type": "stream",
     "text": [
      "3\n",
      "7\n",
      "1 3\n",
      "1 2\n",
      "3 2\n",
      "1 3\n",
      "2 1\n",
      "2 3\n",
      "1 3\n"
     ]
    }
   ],
   "source": [
    "def hanoi(n, start_col, end_col, between_col):\n",
    "    if n == 1:\n",
    "        print(start_col, end=' ')\n",
    "        print(end_col)\n",
    "        return\n",
    "    hanoi(n - 1, start_col, between_col, end_col)\n",
    "    print(start_col, end=' ')\n",
    "    print(end_col)\n",
    "    hanoi(n - 1, between_col, end_col, start_col)\n",
    " \n",
    "N = int(input())\n",
    "k = 2 ** N - 1\n",
    "print(k)\n",
    "\n",
    "hanoi(N, 1, 3, 2)"
   ]
  },
  {
   "cell_type": "code",
   "execution_count": null,
   "id": "7017926c",
   "metadata": {},
   "outputs": [],
   "source": []
  },
  {
   "cell_type": "code",
   "execution_count": null,
   "id": "8438e3c5",
   "metadata": {},
   "outputs": [],
   "source": []
  }
 ],
 "metadata": {
  "kernelspec": {
   "display_name": "Python 3 (ipykernel)",
   "language": "python",
   "name": "python3"
  },
  "language_info": {
   "codemirror_mode": {
    "name": "ipython",
    "version": 3
   },
   "file_extension": ".py",
   "mimetype": "text/x-python",
   "name": "python",
   "nbconvert_exporter": "python",
   "pygments_lexer": "ipython3",
   "version": "3.8.5"
  }
 },
 "nbformat": 4,
 "nbformat_minor": 5
}
