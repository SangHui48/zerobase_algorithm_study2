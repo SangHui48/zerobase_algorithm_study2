{
 "cells": [
  {
   "cell_type": "markdown",
   "id": "855ea9b0",
   "metadata": {},
   "source": [
    "#1712 손익분기점 https://www.acmicpc.net/problem/1712"
   ]
  },
  {
   "cell_type": "code",
   "execution_count": null,
   "id": "385f2107",
   "metadata": {},
   "outputs": [],
   "source": [
    "# 반복문 ~ 시간초과\n",
    "\n",
    "import sys\n",
    "\n",
    "A, B, C = map(int, sys.stdin.readline().split())\n",
    "n = 0\n",
    "profit = 0\n",
    "\n",
    "while profit <= 0:\n",
    "    n += 1\n",
    "    profit = (C - B) * n - A\n",
    "    \n",
    "    if C - B <= 0:\n",
    "        n = -1\n",
    "        break\n",
    "print(n)"
   ]
  },
  {
   "cell_type": "code",
   "execution_count": null,
   "id": "6bd52d7a",
   "metadata": {},
   "outputs": [],
   "source": [
    "# 상황 단순화하여 식을 만들기\n",
    "\n",
    "A, B, C = map(int, input().split())\n",
    "\n",
    "if C > B:\n",
    "    print(int(A / (C-B) + 1))\n",
    "else:\n",
    "    print(-1)"
   ]
  },
  {
   "cell_type": "markdown",
   "id": "9d0a0cf5",
   "metadata": {},
   "source": [
    "#2292 벌집 https://www.acmicpc.net/problem/2292"
   ]
  },
  {
   "cell_type": "code",
   "execution_count": null,
   "id": "e594e767",
   "metadata": {},
   "outputs": [],
   "source": [
    "# 규칙 찾아서 적용(계차수열)\n",
    "\n",
    "n = int(input())\n",
    "\n",
    "start = 1\n",
    "d = 6\n",
    "cnt = 2\n",
    "if n == 1:\n",
    "    print(1)\n",
    "    \n",
    "else:\n",
    "    while True:\n",
    "        start += d\n",
    "        if n <= start:\n",
    "            print(cnt)\n",
    "            break\n",
    "        d += 6\n",
    "        cnt += 1"
   ]
  },
  {
   "cell_type": "markdown",
   "id": "d92a2d14",
   "metadata": {},
   "source": [
    "#2869 달팽이는 올라가고 싶다 https://www.acmicpc.net/problem/2869"
   ]
  },
  {
   "cell_type": "code",
   "execution_count": null,
   "id": "d46dfbdc",
   "metadata": {},
   "outputs": [],
   "source": [
    "A, B, V = map(int, input().split())\n",
    "\n",
    "day = (V - B) / (A - B)  # 나머지 없다면 그대로 올라갈 것이고 나머지 있다면 하루 더걸림\n",
    "\n",
    "if int(day) != day:\n",
    "    print(int(day) + 1)\n",
    "else:\n",
    "    print(int(day))\n",
    "    \n",
    "# V에서 마지막에 내려오는 부분은 빼줌으로써 꼭대기에 도달할 때 하루가 더 필요한지 여부 판단 가능\n",
    "# 소수점이 남는다면 하루가 더필요하므로 +1"
   ]
  }
 ],
 "metadata": {
  "kernelspec": {
   "display_name": "Python 3 (ipykernel)",
   "language": "python",
   "name": "python3"
  },
  "language_info": {
   "codemirror_mode": {
    "name": "ipython",
    "version": 3
   },
   "file_extension": ".py",
   "mimetype": "text/x-python",
   "name": "python",
   "nbconvert_exporter": "python",
   "pygments_lexer": "ipython3",
   "version": "3.8.5"
  }
 },
 "nbformat": 4,
 "nbformat_minor": 5
}
