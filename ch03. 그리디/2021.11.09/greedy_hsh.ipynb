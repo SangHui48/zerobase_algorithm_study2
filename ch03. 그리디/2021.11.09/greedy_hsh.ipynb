{
 "cells": [
  {
   "cell_type": "markdown",
   "metadata": {},
   "source": [
    "# 그리디 알고리즘"
   ]
  },
  {
   "cell_type": "markdown",
   "metadata": {},
   "source": [
    "---"
   ]
  },
  {
   "cell_type": "markdown",
   "metadata": {},
   "source": [
    "- 현재 상황에서 지금 당장 좋은 것만 고르는 방법\n",
    "- 보통 암기로 접근하기 힘든 유형\n",
    "- '가장 큰 순서대로', '가장 작은 순서대로'와 같은 기준을 알게모르게 제시해 주는 경우가 많음"
   ]
  },
  {
   "cell_type": "markdown",
   "metadata": {},
   "source": [
    "### 그리디 알고리즘의 정당성\n",
    "- 문제 풀이를 위한 최소한의 아이디어를 떠올리고 이것이 정당한지 검토할 수 있어야 답을 도출할 수 있음"
   ]
  },
  {
   "cell_type": "markdown",
   "metadata": {},
   "source": [
    "---"
   ]
  },
  {
   "cell_type": "markdown",
   "metadata": {},
   "source": [
    "#### 예제 1) 큰 수의 법칙"
   ]
  },
  {
   "cell_type": "code",
   "execution_count": 2,
   "metadata": {},
   "outputs": [
    {
     "name": "stdout",
     "output_type": "stream",
     "text": [
      "46\n"
     ]
    }
   ],
   "source": [
    "n, m, k = map(int, input().split())\n",
    "numbers = list(map(int, input().split()))\n",
    "numbers.sort()\n",
    "first, second = numbers[-1], numbers[-2]\n",
    "\n",
    "result = 0\n",
    "if first == second:\n",
    "    result = first * m\n",
    "else:\n",
    "    result += (first * k) * (m // (k + 1)) + first * (m % (k + 1))\n",
    "    result += (second) * (m // (k + 1))\n",
    "\n",
    "print(result)"
   ]
  },
  {
   "cell_type": "markdown",
   "metadata": {},
   "source": [
    "- 단순 반복문 구현 가능. 하지만 수학적 아이디어를 이용하면 더 효율적 시간복잡도를 가진 알고리즘 구현 가능."
   ]
  },
  {
   "cell_type": "markdown",
   "metadata": {},
   "source": [
    "#### 예제 2) 숫자 카드 게임"
   ]
  },
  {
   "cell_type": "code",
   "execution_count": 3,
   "metadata": {},
   "outputs": [
    {
     "name": "stdout",
     "output_type": "stream",
     "text": [
      "2\n"
     ]
    }
   ],
   "source": [
    "n, m = map(int, input().split())\n",
    "card_set = []\n",
    "for _ in range(n):\n",
    "    card_set.append(list(map(int, input().split())))\n",
    "result = 0\n",
    "for case in card_set:\n",
    "    result = max(result, min(case))\n",
    "\n",
    "print(result)"
   ]
  },
  {
   "cell_type": "markdown",
   "metadata": {},
   "source": [
    "- 2차원 배열로 n행 m열의 데이터를 만든다음 행별 최솟값중의 최댓값을 계속 갱신시키는 방향으로 해결"
   ]
  },
  {
   "cell_type": "markdown",
   "metadata": {},
   "source": [
    "#### 예제4) 1이 될때까지"
   ]
  },
  {
   "cell_type": "code",
   "execution_count": 5,
   "metadata": {},
   "outputs": [
    {
     "name": "stdout",
     "output_type": "stream",
     "text": [
      "2\n"
     ]
    }
   ],
   "source": [
    "n, k = map(int, input().split())\n",
    "cnt = 0\n",
    "while n > 1:\n",
    "    cnt += 1\n",
    "    if n % k == 0:\n",
    "        n //= k\n",
    "        if n == 1:\n",
    "            break\n",
    "    else:\n",
    "        n -= 1\n",
    "print(cnt)"
   ]
  },
  {
   "cell_type": "markdown",
   "metadata": {},
   "source": [
    "- k로 나눌수 있을때까지 뺴준다. 이후는 나누기만 수행하면 최소 횟수를 보장할 수 있다."
   ]
  }
 ],
 "metadata": {
  "interpreter": {
   "hash": "d50a66a266a6a61a1c0333aefb4ab9977cb45a205395c7c5730c8fb0e80b6869"
  },
  "kernelspec": {
   "display_name": "Python 3.9.6 64-bit",
   "language": "python",
   "name": "python3"
  },
  "language_info": {
   "codemirror_mode": {
    "name": "ipython",
    "version": 3
   },
   "file_extension": ".py",
   "mimetype": "text/x-python",
   "name": "python",
   "nbconvert_exporter": "python",
   "pygments_lexer": "ipython3",
   "version": "3.9.6"
  },
  "orig_nbformat": 4
 },
 "nbformat": 4,
 "nbformat_minor": 2
}
