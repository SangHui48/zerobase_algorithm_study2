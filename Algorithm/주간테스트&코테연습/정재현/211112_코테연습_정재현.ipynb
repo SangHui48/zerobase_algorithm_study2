{
 "cells": [
  {
   "cell_type": "markdown",
   "id": "73f1b9d7",
   "metadata": {},
   "source": [
    "#### 1문제 설명\n",
    "직사각형을 만드는 데 필요한 4개의 점 중 3개의 좌표가 주어질 때, 나머지 한 점의 좌표를 구하려고 합니다. 점 3개의 좌표가 들어있는 배열 v가 매개변수로 주어질 때, 직사각형을 만드는 데 필요한 나머지 한 점의 좌표를 return 하도록 solution 함수를 완성해주세요. 단, 직사각형의 각 변은 x축, y축에 평행하며, 반드시 직사각형을 만들 수 있는 경우만 입력으로 주어집니다.\n",
    "\n",
    "제한사항\n",
    "v는 세 점의 좌표가 들어있는 2차원 배열입니다.\n",
    "v의 각 원소는 점의 좌표를 나타내며, 좌표는 [x축 좌표, y축 좌표] 순으로 주어집니다.\n",
    "좌표값은 1 이상 10억 이하의 자연수입니다.\n",
    "직사각형을 만드는 데 필요한 나머지 한 점의 좌표를 [x축 좌표, y축 좌표] 순으로 담아 return 해주세요.\n",
    "입출력 예\n",
    "v\tresult\n",
    "[[1, 4], [3, 4], [3, 10]]\t[1, 10]\n",
    "[[1, 1], [2, 2], [1, 2]]\t[2, 1]\n",
    "입출력 예 설명\n",
    "입출력 예 #1\n",
    "세 점이 [1, 4], [3, 4], [3, 10] 위치에 있을 때, [1, 10]에 점이 위치하면 직사각형이 됩니다.\n",
    "\n",
    "입출력 예 #2\n",
    "세 점이 [1, 1], [2, 2], [1, 2] 위치에 있을 때, [2, 1]에 점이 위치하면 직사각형이 됩니다."
   ]
  },
  {
   "cell_type": "code",
   "execution_count": 1,
   "id": "0f590fae",
   "metadata": {},
   "outputs": [
    {
     "name": "stdout",
     "output_type": "stream",
     "text": [
      "[1, 10]\n",
      "[2, 1]\n"
     ]
    }
   ],
   "source": [
    "def solution(v):\n",
    "    \n",
    "    answer = []\n",
    "    xList = []\n",
    "    yList = []\n",
    "\n",
    "    for i in v:\n",
    "        xList.append(i[0])\n",
    "        yList.append(i[1])\n",
    "\n",
    "\n",
    "    for i in range(len(xList)):\n",
    "        if xList.count(xList[i]) == 1:\n",
    "            answer.append(xList[i])\n",
    "\n",
    "    for i in range(len(yList)):\n",
    "        if yList.count(yList[i]) == 1:\n",
    "            answer.append(yList[i])\n",
    "    return answer\n",
    "\n",
    "print(solution([[1, 4], [3, 4], [3, 10]]))\n",
    "print(solution([[1, 1], [2, 2], [1, 2]]))"
   ]
  },
  {
   "cell_type": "markdown",
   "id": "a5f24b79",
   "metadata": {},
   "source": [
    "#### 2문제 설명\n",
    "길이가 n인 배열에 1부터 n까지 숫자가 중복 없이 한 번씩 들어 있는지를 확인하려고 합니다.\n",
    "1부터 n까지 숫자가 중복 없이 한 번씩 들어 있는 경우 true를, 아닌 경우 false를 반환하도록 함수 solution을 완성해주세요.\n",
    "\n",
    "제한사항\n",
    "배열의 길이는 10만 이하입니다.\n",
    "배열의 원소는 0 이상 10만 이하인 정수입니다.\n",
    "입출력 예\n",
    "arr\tresult\n",
    "[4, 1, 3, 2]\ttrue\n",
    "[4, 1, 3]\tfalse\n",
    "입출력 예 설명\n",
    "입출력 예 #1\n",
    "입력이 [4, 1, 3, 2]가 주어진 경우, 배열의 길이가 4이므로 배열에는 1부터 4까지 숫자가 모두 들어 있어야 합니다. [4, 1, 3, 2]에는 1부터 4까지의 숫자가 모두 들어 있으므로 true를 반환하면 됩니다.\n",
    "\n",
    "입출력 예 #2\n",
    "[4, 1, 3]이 주어진 경우, 배열의 길이가 3이므로 배열에는 1부터 3까지 숫자가 모두 들어 있어야 합니다. [4, 1, 3]에는 2가 없고 4가 있으므로 false를 반환하면 됩니다"
   ]
  },
  {
   "cell_type": "code",
   "execution_count": 2,
   "id": "993cec26",
   "metadata": {},
   "outputs": [
    {
     "name": "stdout",
     "output_type": "stream",
     "text": [
      "True\n",
      "False\n"
     ]
    }
   ],
   "source": [
    "def solution(arr):\n",
    "\n",
    "    arr.sort()\n",
    "    for i in range(len(arr)):\n",
    "        if i + 1 != arr[i]:\n",
    "            return False\n",
    "        \n",
    "    else:\n",
    "        return True\n",
    "\n",
    "print(solution([4,1,3,2]))\n",
    "print(solution([4,1,3]))"
   ]
  },
  {
   "cell_type": "markdown",
   "id": "73add820",
   "metadata": {},
   "source": [
    "#### 3문제 설명\n",
    "△△ 게임대회가 개최되었습니다. 이 대회는 N명이 참가하고, 토너먼트 형식으로 진행됩니다. N명의 참가자는 각각 1부터 N번을 차례대로 배정받습니다. 그리고, 1번↔2번, 3번↔4번, ... , N-1번↔N번의 참가자끼리 게임을 진행합니다. 각 게임에서 이긴 사람은 다음 라운드에 진출할 수 있습니다. 이때, 다음 라운드에 진출할 참가자의 번호는 다시 1번부터 N/2번을 차례대로 배정받습니다. 만약 1번↔2번 끼리 겨루는 게임에서 2번이 승리했다면 다음 라운드에서 1번을 부여받고, 3번↔4번에서 겨루는 게임에서 3번이 승리했다면 다음 라운드에서 2번을 부여받게 됩니다. 게임은 최종 한 명이 남을 때까지 진행됩니다.\n",
    "\n",
    "이때, 처음 라운드에서 A번을 가진 참가자는 경쟁자로 생각하는 B번 참가자와 몇 번째 라운드에서 만나는지 궁금해졌습니다. 게임 참가자 수 N, 참가자 번호 A, 경쟁자 번호 B가 함수 solution의 매개변수로 주어질 때, 처음 라운드에서 A번을 가진 참가자는 경쟁자로 생각하는 B번 참가자와 몇 번째 라운드에서 만나는지 return 하는 solution 함수를 완성해 주세요. 단, A번 참가자와 B번 참가자는 서로 붙게 되기 전까지 항상 이긴다고 가정합니다.\n",
    "\n",
    "제한사항\n",
    "N : 21 이상 220 이하인 자연수 (2의 지수 승으로 주어지므로 부전승은 발생하지 않습니다.)\n",
    "A, B : N 이하인 자연수 (단, A ≠ B 입니다.)\n",
    "입출력 예\n",
    "N\tA\tB\tanswer\n",
    "8\t4\t7\t3\n",
    "입출력 예 설명\n",
    "입출력 예 #1\n",
    "첫 번째 라운드에서 4번 참가자는 3번 참가자와 붙게 되고, 7번 참가자는 8번 참가자와 붙게 됩니다. 항상 이긴다고 가정했으므로 4번 참가자는 다음 라운드에서 2번이 되고, 7번 참가자는 4번이 됩니다. 두 번째 라운드에서 2번은 1번과 붙게 되고, 4번은 3번과 붙게 됩니다. 항상 이긴다고 가정했으므로 2번은 다음 라운드에서 1번이 되고, 4번은 2번이 됩니다. 세 번째 라운드에서 1번과 2번으로 두 참가자가 붙게 되므로 3을 return 하면 됩니다."
   ]
  },
  {
   "cell_type": "code",
   "execution_count": 3,
   "id": "6feb24f6",
   "metadata": {},
   "outputs": [
    {
     "data": {
      "text/plain": [
       "3"
      ]
     },
     "execution_count": 3,
     "metadata": {},
     "output_type": "execute_result"
    }
   ],
   "source": [
    "import math\n",
    "\n",
    "def compete(n):\n",
    "    return math.ceil(n/2)\n",
    "\n",
    "def solution(n, a, b):\n",
    "    answer = 1\n",
    "    \n",
    "    while compete(a) != compete(b):\n",
    "        a = compete(a)\n",
    "        b = compete(b)\n",
    "        answer += 1\n",
    "        \n",
    "    return answer\n",
    "        \n",
    "solution(8,4,7)"
   ]
  },
  {
   "cell_type": "code",
   "execution_count": null,
   "id": "0f3d6aec",
   "metadata": {},
   "outputs": [],
   "source": []
  },
  {
   "cell_type": "code",
   "execution_count": null,
   "id": "f7396d65",
   "metadata": {},
   "outputs": [],
   "source": []
  },
  {
   "cell_type": "code",
   "execution_count": null,
   "id": "23a15d88",
   "metadata": {},
   "outputs": [],
   "source": []
  }
 ],
 "metadata": {
  "kernelspec": {
   "display_name": "Python 3 (ipykernel)",
   "language": "python",
   "name": "python3"
  },
  "language_info": {
   "codemirror_mode": {
    "name": "ipython",
    "version": 3
   },
   "file_extension": ".py",
   "mimetype": "text/x-python",
   "name": "python",
   "nbconvert_exporter": "python",
   "pygments_lexer": "ipython3",
   "version": "3.8.5"
  }
 },
 "nbformat": 4,
 "nbformat_minor": 5
}
