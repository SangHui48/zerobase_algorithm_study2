{
 "cells": [
  {
   "cell_type": "markdown",
   "id": "57bd3fa9",
   "metadata": {},
   "source": [
    "# 211110_주간코테_정재현"
   ]
  },
  {
   "cell_type": "markdown",
   "id": "ee639d06",
   "metadata": {},
   "source": [
    "# 1"
   ]
  },
  {
   "cell_type": "code",
   "execution_count": null,
   "id": "a0343043",
   "metadata": {},
   "outputs": [],
   "source": [
    "def solution(nums):\n",
    "    \n",
    "    n = int(len(nums) / 2)  # 선택해야하는 수\n",
    "    r = len(set(nums))    # 개별 종류 수\n",
    "    \n",
    "\n",
    "    if n <= r:\n",
    "        return n\n",
    "    else:\n",
    "        return r"
   ]
  },
  {
   "cell_type": "markdown",
   "id": "ac6b3055",
   "metadata": {},
   "source": [
    "# 2"
   ]
  },
  {
   "cell_type": "code",
   "execution_count": null,
   "id": "b8b9b8e4",
   "metadata": {},
   "outputs": [],
   "source": [
    "def solution(arr):\n",
    "\n",
    "    tmpList = []\n",
    "\n",
    "    for i in range(len(arr)):\n",
    "        if i < len(arr) - 1:\n",
    "            if arr[i] == arr[i+1]:\n",
    "                continue\n",
    "\n",
    "        tmpList.append(arr[i])\n",
    "\n",
    "    return tmpList"
   ]
  },
  {
   "cell_type": "markdown",
   "id": "fa759c9a",
   "metadata": {},
   "source": [
    "# 3\n"
   ]
  },
  {
   "cell_type": "code",
   "execution_count": null,
   "id": "da5d893b",
   "metadata": {},
   "outputs": [],
   "source": [
    "def solution(n):\n",
    "    answer = 0\n",
    "    \n",
    "    for i in str(n):\n",
    "        answer += int(i)\n",
    "    answer\n",
    "\n",
    "    return answer"
   ]
  },
  {
   "cell_type": "markdown",
   "id": "faa61cae",
   "metadata": {},
   "source": [
    "# 4\n"
   ]
  },
  {
   "cell_type": "code",
   "execution_count": null,
   "id": "2edc66fd",
   "metadata": {},
   "outputs": [],
   "source": [
    "def solution(dirs):\n",
    "\n",
    "    x, y = 0, 0    # 시작점\n",
    "    ways = ['00']    # 들린 위치\n",
    "\n",
    "    # L, R, U, D에 따른 이동 방향\n",
    "    dx = [0, 0, -1, 1]\n",
    "    dy = [-1, 1, 0, 0]\n",
    "    move_types = ['D', 'U', 'L', 'R']  # 각 방향의 index D:0, U:1, L:2, R:3 \n",
    "\n",
    "    # 이동 계획을 하나씩 확인\n",
    "    for dir in dirs:\n",
    "\n",
    "        # 이동 후 좌표 구하기\n",
    "        for i in range(len(move_types)):\n",
    "\n",
    "            if dir == move_types[i]:   # 해당되는 무브타입에서\n",
    "                x += dx[i]          # 그에 맞게 방향 갱신\n",
    "                y += dy[i]\n",
    "\n",
    "            # 공간을 벗어나는 경우 무시\n",
    "            if dir == move_types[i] and ((abs(x) > 5) or (abs(y) > 5)):\n",
    "                x -= dx[i]          \n",
    "                y -= dy[i]   \n",
    "                continue\n",
    "\n",
    "        ways.append(str(x)+str(y))   # ways에 append된 좌표점들은 이동 계획인 dirs에 따라 잘 적용되었다\n",
    "\n",
    "    answer = 0\n",
    "    visited = []\n",
    "\n",
    "    for i in range(len(ways) - 1):\n",
    "\n",
    "        a = (ways[i], ways[i+1])\n",
    "        b = (ways[i+1], ways[i])\n",
    "        \n",
    "# 먼저 ways에 입력되 좌표들을 현재위치와 나중위치를 튜플로 만들어 변수 a에, 시점을 바꿔서 튜플로 변수 b에 할당했다. \n",
    "# (이동 방향과 무관하게 길을 지났는지 여부를 세기위해)\n",
    "\n",
    "        if a not in visited and b not in visited and a != b:\n",
    "\n",
    "            visited.append(a)\n",
    "            visited.append(b)\n",
    "\n",
    "            answer += 1\n",
    "            \n",
    "# a나 b가 visited에 포함되지 않는 경우와 a와 b가 다른 경우(a와 b가 같은 경우는 범위 밖을 벗어난 경우이다)는\n",
    "# 방문하지 않은 길이므로 해당 길의 데이터를 visited에 append하고 answer에 1을 더해준다.\n",
    "    \n",
    "    return answer"
   ]
  },
  {
   "cell_type": "markdown",
   "id": "bfb39cd5",
   "metadata": {},
   "source": [
    "# 5"
   ]
  },
  {
   "cell_type": "code",
   "execution_count": null,
   "id": "19319a2f",
   "metadata": {},
   "outputs": [],
   "source": [
    "def solution(skill, skill_trees):\n",
    "    \n",
    "    answer = 0\n",
    "\n",
    "    for skills in skill_trees:\n",
    "        skill_list = list(skill)\n",
    "\n",
    "        for s in skills:\n",
    "            if s in skill:      # skills에서 개별스킬이 skill에 포함되어있을경우\n",
    "                if s != skill_list.pop(0):  \n",
    "                    break\n",
    "                    \n",
    "# skill의 리스트에서 0번 인덱스를 삭제함과 동시에 이 스킬과 개별 스킬이 다르다면 스킬트리순서 어겼음을 의미\n",
    "\n",
    "        else:\n",
    "            answer += 1\n",
    "            \n",
    "# 규칙 어기지 않고 반복문 끝까지 실행됐다면 answer += 1\n",
    "\n",
    "    return answer"
   ]
  }
 ],
 "metadata": {
  "kernelspec": {
   "display_name": "Python 3 (ipykernel)",
   "language": "python",
   "name": "python3"
  },
  "language_info": {
   "codemirror_mode": {
    "name": "ipython",
    "version": 3
   },
   "file_extension": ".py",
   "mimetype": "text/x-python",
   "name": "python",
   "nbconvert_exporter": "python",
   "pygments_lexer": "ipython3",
   "version": "3.8.5"
  }
 },
 "nbformat": 4,
 "nbformat_minor": 5
}
