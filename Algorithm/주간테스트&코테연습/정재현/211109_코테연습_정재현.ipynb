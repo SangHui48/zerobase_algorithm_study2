{
 "cells": [
  {
   "cell_type": "markdown",
   "id": "5807c531",
   "metadata": {},
   "source": [
    "# 문제1"
   ]
  },
  {
   "cell_type": "code",
   "execution_count": null,
   "id": "5ad00701",
   "metadata": {},
   "outputs": [],
   "source": [
    "def solution(n, m):\n",
    "    cnt = 0\n",
    "    for i in range(n,m+1):\n",
    "        if str(i) == str(i)[::-1] :\n",
    "            cnt +=1\n",
    "\n",
    "    return cnt"
   ]
  },
  {
   "cell_type": "markdown",
   "id": "82fd5ada",
   "metadata": {},
   "source": [
    "\n",
    "# 문제2"
   ]
  },
  {
   "cell_type": "code",
   "execution_count": null,
   "id": "276892be",
   "metadata": {},
   "outputs": [],
   "source": [
    "-- Write the code.\n",
    "SELECT model from electric_cars order by model;"
   ]
  }
 ],
 "metadata": {
  "kernelspec": {
   "display_name": "Python 3 (ipykernel)",
   "language": "python",
   "name": "python3"
  },
  "language_info": {
   "codemirror_mode": {
    "name": "ipython",
    "version": 3
   },
   "file_extension": ".py",
   "mimetype": "text/x-python",
   "name": "python",
   "nbconvert_exporter": "python",
   "pygments_lexer": "ipython3",
   "version": "3.8.5"
  }
 },
 "nbformat": 4,
 "nbformat_minor": 5
}
