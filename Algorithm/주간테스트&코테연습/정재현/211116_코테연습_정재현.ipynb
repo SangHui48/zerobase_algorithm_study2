{
 "cells": [
  {
   "cell_type": "markdown",
   "id": "7cbb09ac",
   "metadata": {},
   "source": [
    "# 211116 코테연습"
   ]
  },
  {
   "cell_type": "markdown",
   "id": "ea423fe4",
   "metadata": {},
   "source": [
    "#### 1문제 설명\n",
    "1와 0로 채워진 표(board)가 있습니다. 표 1칸은 1 x 1 의 정사각형으로 이루어져 있습니다. 표에서 1로 이루어진 가장 큰 정사각형을 찾아 넓이를 return 하는 solution 함수를 완성해 주세요. (단, 정사각형이란 축에 평행한 정사각형을 말합니다.)\n",
    "\n",
    "예를 들어\n",
    "\n",
    "1\t2\t3\t4\n",
    "0\t1\t1\t1\n",
    "1\t1\t1\t1\n",
    "1\t1\t1\t1\n",
    "0\t0\t1\t0\n",
    "가 있다면 가장 큰 정사각형은\n",
    "\n",
    "1\t2\t3\t4\n",
    "0\t1\t1\t1\n",
    "1\t1\t1\t1\n",
    "1\t1\t1\t1\n",
    "0\t0\t1\t0\n",
    "가 되며 넓이는 9가 되므로 9를 반환해 주면 됩니다.\n",
    "\n",
    "제한사항\n",
    "표(board)는 2차원 배열로 주어집니다.\n",
    "표(board)의 행(row)의 크기 : 1,000 이하의 자연수\n",
    "표(board)의 열(column)의 크기 : 1,000 이하의 자연수\n",
    "표(board)의 값은 1또는 0으로만 이루어져 있습니다.\n",
    "입출력 예\n",
    "board\tanswer\n",
    "[[0,1,1,1],[1,1,1,1],[1,1,1,1],[0,0,1,0]]\t9\n",
    "[[0,0,1,1],[1,1,1,1]]\t4\n",
    "입출력 예 설명\n",
    "입출력 예 #1\n",
    "위의 예시와 같습니다.\n",
    "\n",
    "입출력 예 #2\n",
    "| 0 | 0 | 1 | 1 |\n",
    "| 1 | 1 | 1 | 1 |\n",
    "로 가장 큰 정사각형의 넓이는 4가 되므로 4를 return합니다."
   ]
  },
  {
   "cell_type": "code",
   "execution_count": 4,
   "id": "ff5d9520",
   "metadata": {},
   "outputs": [
    {
     "data": {
      "text/plain": [
       "9"
      ]
     },
     "execution_count": 4,
     "metadata": {},
     "output_type": "execute_result"
    }
   ],
   "source": [
    "def solution(board):\n",
    "    \n",
    "    n = len(board)    # rows\n",
    "    m = len(board[0])    # columns\n",
    "    answer = 0\n",
    "    \n",
    "    if n < 2:    # 2 by 2 행렬 미만이면 최대가 1\n",
    "        return 1\n",
    "    \n",
    "    for i in range(n):\n",
    "        for j in range(m):\n",
    "            if board[i][j]:    # 해당 위치에서 왼쪽, 왼쪽위, 위쪽 값의 최소값에 1을 더하여 연결된 사각형의 길이 구하기\n",
    "                board[i][j] = min(board[i-1][j-1], board[i-1][j], board[i][j-1]) + 1    # 점화식\n",
    "                answer = max(answer, board[i][j])\n",
    "    return answer ** 2\n",
    "\n",
    "solution([[0,1,1,1],[1,1,1,1],[1,1,1,1],[0,0,1,0]])"
   ]
  },
  {
   "cell_type": "markdown",
   "id": "f961655d",
   "metadata": {},
   "source": [
    "#### 2문제 설명\n",
    "짝지어 제거하기는, 알파벳 소문자로 이루어진 문자열을 가지고 시작합니다. 먼저 문자열에서 같은 알파벳이 2개 붙어 있는 짝을 찾습니다. 그다음, 그 둘을 제거한 뒤, 앞뒤로 문자열을 이어 붙입니다. 이 과정을 반복해서 문자열을 모두 제거한다면 짝지어 제거하기가 종료됩니다. 문자열 S가 주어졌을 때, 짝지어 제거하기를 성공적으로 수행할 수 있는지 반환하는 함수를 완성해 주세요. 성공적으로 수행할 수 있으면 1을, 아닐 경우 0을 리턴해주면 됩니다.\n",
    "\n",
    "예를 들어, 문자열 S = baabaa 라면\n",
    "\n",
    "b aa baa → bb aa → aa →\n",
    "\n",
    "의 순서로 문자열을 모두 제거할 수 있으므로 1을 반환합니다.\n",
    "\n",
    "제한사항\n",
    "문자열의 길이 : 1,000,000이하의 자연수\n",
    "문자열은 모두 소문자로 이루어져 있습니다.\n",
    "입출력 예\n",
    "s\tresult\n",
    "baabaa\t1\n",
    "cdcd\t0\n",
    "입출력 예 설명\n",
    "입출력 예 #1\n",
    "위의 예시와 같습니다.\n",
    "입출력 예 #2\n",
    "문자열이 남아있지만 짝지어 제거할 수 있는 문자열이 더 이상 존재하지 않기 때문에 0을 반환합니다.\n",
    "\n",
    "※ 공지 - 2020년 6월 8일 테스트케이스가 추가되었습니다."
   ]
  },
  {
   "cell_type": "code",
   "execution_count": 2,
   "id": "b653f81b",
   "metadata": {},
   "outputs": [
    {
     "name": "stdout",
     "output_type": "stream",
     "text": [
      "1\n",
      "0\n"
     ]
    }
   ],
   "source": [
    "# 반복문 시간초과\n",
    "\n",
    "def process(s):\n",
    "    \n",
    "    front = \"\"\n",
    "    back = \"\"\n",
    "\n",
    "    for i in range(len(s)):    # 같은경우 있으면 그 기준으로 나누기\n",
    "        if s[i] == s[i-1]:\n",
    "            front += (s[:i-1])\n",
    "            back += (s[i+1:])\n",
    "            break\n",
    "    else:    # 같은 경우 없으면 0 리턴\n",
    "        return 0\n",
    "            \n",
    "    if len(s) == 2 and s[0] == s[1]:    # 같은 2글자가 남았다면 빈문자열 반환\n",
    "        return \"\"\n",
    "            \n",
    "    return front + back\n",
    "\n",
    "def solution(s):\n",
    "    while s != \"\":\n",
    "        s = process(s)\n",
    "\n",
    "        if s == 0:\n",
    "            return 0\n",
    "\n",
    "    return 1\n",
    "\n",
    "print(solution('baabaa'))\n",
    "print(solution('cdcd'))"
   ]
  },
  {
   "cell_type": "code",
   "execution_count": 3,
   "id": "de08ec39",
   "metadata": {},
   "outputs": [
    {
     "name": "stdout",
     "output_type": "stream",
     "text": [
      "1\n",
      "0\n"
     ]
    }
   ],
   "source": [
    "# 스택 구현\n",
    "\n",
    "def solution(s):\n",
    "    \n",
    "    stack = []    # 스택 구현 by list\n",
    "    \n",
    "    for i in s:\n",
    "        if stack:    # 스택에 값이 있을 때\n",
    "            if stack[-1] == i:    # 스택 마지막 값이 해당 문자라면\n",
    "                stack.pop()    # 스택 마지막 값 꺼내기\n",
    "            else:\n",
    "                stack.append(i) # 아니라면 해당 문자넣기\n",
    "        else:    # 스택에 값없으면 해당 문자 넣기\n",
    "            stack.append(i)\n",
    "            \n",
    "    if stack:    # 값있으면 0\n",
    "        return 0\n",
    "    else:    # 값없으면 1\n",
    "        return 1\n",
    "    \n",
    "print(solution('baabaa'))\n",
    "print(solution('cdcd'))"
   ]
  }
 ],
 "metadata": {
  "kernelspec": {
   "display_name": "Python 3 (ipykernel)",
   "language": "python",
   "name": "python3"
  },
  "language_info": {
   "codemirror_mode": {
    "name": "ipython",
    "version": 3
   },
   "file_extension": ".py",
   "mimetype": "text/x-python",
   "name": "python",
   "nbconvert_exporter": "python",
   "pygments_lexer": "ipython3",
   "version": "3.8.5"
  }
 },
 "nbformat": 4,
 "nbformat_minor": 5
}
