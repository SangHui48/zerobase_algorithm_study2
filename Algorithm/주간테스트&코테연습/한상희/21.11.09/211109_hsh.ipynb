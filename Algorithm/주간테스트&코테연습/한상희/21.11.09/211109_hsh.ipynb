{
 "cells": [
  {
   "cell_type": "markdown",
   "metadata": {},
   "source": [
    "- 문제1)"
   ]
  },
  {
   "cell_type": "code",
   "execution_count": 1,
   "metadata": {},
   "outputs": [
    {
     "name": "stdout",
     "output_type": "stream",
     "text": [
      "18\n",
      "20\n"
     ]
    }
   ],
   "source": [
    "def solution(n, m):\n",
    "    answer = 0\n",
    "    for i in range(n, m+1):\n",
    "        if str(i) == str(i)[::-1]:\n",
    "            answer += 1\n",
    "    return answer\n",
    "\n",
    "print(solution(1,100))\n",
    "print(solution(100,300))"
   ]
  },
  {
   "cell_type": "markdown",
   "metadata": {},
   "source": [
    "- 문제2)"
   ]
  },
  {
   "cell_type": "markdown",
   "metadata": {},
   "source": [
    "select model from electric_cars order by model;"
   ]
  }
 ],
 "metadata": {
  "interpreter": {
   "hash": "d50a66a266a6a61a1c0333aefb4ab9977cb45a205395c7c5730c8fb0e80b6869"
  },
  "kernelspec": {
   "display_name": "Python 3.9.6 64-bit",
   "language": "python",
   "name": "python3"
  },
  "language_info": {
   "codemirror_mode": {
    "name": "ipython",
    "version": 3
   },
   "file_extension": ".py",
   "mimetype": "text/x-python",
   "name": "python",
   "nbconvert_exporter": "python",
   "pygments_lexer": "ipython3",
   "version": "3.9.6"
  },
  "orig_nbformat": 4
 },
 "nbformat": 4,
 "nbformat_minor": 2
}
